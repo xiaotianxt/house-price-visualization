{
 "metadata": {
  "language_info": {
   "codemirror_mode": {
    "name": "ipython",
    "version": 3
   },
   "file_extension": ".py",
   "mimetype": "text/x-python",
   "name": "python",
   "nbconvert_exporter": "python",
   "pygments_lexer": "ipython3",
   "version": "3.9.2"
  },
  "orig_nbformat": 2,
  "kernelspec": {
   "name": "python392jvsc74a57bd095ec9ec1504d83f612128e0fb229072f90bbb4cb09d9d5d93b5dd26e0ca2cfd1",
   "display_name": "Python 3.9.2 64-bit ('base': conda)"
  },
  "metadata": {
   "interpreter": {
    "hash": "95ec9ec1504d83f612128e0fb229072f90bbb4cb09d9d5d93b5dd26e0ca2cfd1"
   }
  }
 },
 "nbformat": 4,
 "nbformat_minor": 2,
 "cells": [
  {
   "cell_type": "code",
   "execution_count": 47,
   "metadata": {},
   "outputs": [],
   "source": [
    "import pymongo\n",
    "\n",
    "myclient = pymongo.MongoClient(\"mongodb://xiaotianxt.cn:27017\")\n",
    "mydb = myclient[\"lianjia\"]\n",
    "mycol = mydb[\"xiaoqu\"]\n",
    "\n",
    "tocol = mydb[\"location\"]"
   ]
  },
  {
   "cell_type": "code",
   "execution_count": 3,
   "metadata": {},
   "outputs": [
    {
     "output_type": "stream",
     "name": "stdout",
     "text": [
      "{'_id': ObjectId('60a2a11b0bb7f9259bb37374'), 'city': '北京', 'date': '20210518', 'district': '亦庄开发区', 'area': '马驹桥', 'xiaoqu': '珠江逸景', 'price': 27736, 'sale': 96}\n"
     ]
    }
   ],
   "source": [
    "print(mycol.find_one())"
   ]
  },
  {
   "cell_type": "code",
   "execution_count": 80,
   "metadata": {},
   "outputs": [],
   "source": [
    "rem = []\n",
    "for item in xiaoqus:\n",
    "    rem.append(item)\n",
    "    if len(rem) == 10:\n",
    "        for item, location in zip(rem, convert(rem)):\n",
    "            lat, lon = location\n",
    "            tocol.insert_one({\n",
    "                'city': item['city'],\n",
    "                'district': item['district'],\n",
    "                'area': item['area'],\n",
    "                'xiaoqu': item['xiaoqu'],\n",
    "                'lat': lat,\n",
    "                'lon': lon\n",
    "            })\n",
    "        rem = []"
   ]
  },
  {
   "cell_type": "code",
   "execution_count": 22,
   "metadata": {},
   "outputs": [],
   "source": [
    "\n",
    "def convert(items):\n",
    "    import requests\n",
    "    url = r'https://restapi.amap.com/v3/geocode/geo'\n",
    "    response = requests.get(url,params={\n",
    "        \"key\":\"3098971a0dd91ecd75778af52bb4d3d0\",\n",
    "        \"batch\": \"true\",\n",
    "        \"output\": \"json\",\n",
    "        \"address\": \"|\".join(list([f\"{item['city']}市{item['district']}区{item['area']}{item['xiaoqu']}\" for item in items])),\n",
    "        \"city\": \"北京\"\n",
    "    })\n",
    "    ret = response.json()\n",
    "    return [(float(item['location'].split(',')[0]), float(item['location'].split(',')[1])) for item in ret['geocodes']]"
   ]
  },
  {
   "cell_type": "code",
   "execution_count": 63,
   "metadata": {},
   "outputs": [
    {
     "output_type": "stream",
     "name": "stdout",
     "text": [
      "北京 亦庄开发区 马驹桥 天鹅堡 116.536217 39.749356\n",
      "北京 亦庄开发区 马驹桥 金地格林6 116.541859 39.752069\n",
      "北京 亦庄开发区 马驹桥 新海北里 116.541884 39.756792\n",
      "北京 亦庄开发区 马驹桥 样本 116.549526 39.756462\n",
      "北京 亦庄开发区 马驹桥 新海南里 116.541142 39.754057\n",
      "北京 亦庄开发区 马驹桥 合生世界花园 116.554998 39.739561\n",
      "北京 亦庄开发区 马驹桥 珠江萨尔斯郡 116.544998 39.742401\n",
      "北京 大兴 瀛海 德茂佳苑 116.438908 39.777337\n",
      "北京 大兴 瀛海 紫宸苑 116.456526 39.76258\n",
      "北京 大兴 瀛海 瀛海家园融园D区 116.434715 39.760667\n"
     ]
    }
   ],
   "source": []
  },
  {
   "cell_type": "code",
   "execution_count": 68,
   "metadata": {},
   "outputs": [
    {
     "output_type": "stream",
     "name": "stdout",
     "text": [
      "Help on method distinct in module pymongo.collection:\n\ndistinct(key, filter=None, session=None, **kwargs) method of pymongo.collection.Collection instance\n    Get a list of distinct values for `key` among all documents\n    in this collection.\n    \n    Raises :class:`TypeError` if `key` is not an instance of\n    :class:`basestring` (:class:`str` in python 3).\n    \n    All optional distinct parameters should be passed as keyword arguments\n    to this method. Valid options include:\n    \n      - `maxTimeMS` (int): The maximum amount of time to allow the count\n        command to run, in milliseconds.\n      - `collation` (optional): An instance of\n        :class:`~pymongo.collation.Collation`. This option is only supported\n        on MongoDB 3.4 and above.\n    \n    The :meth:`distinct` method obeys the :attr:`read_preference` of\n    this :class:`Collection`.\n    \n    :Parameters:\n      - `key`: name of the field for which we want to get the distinct\n        values\n      - `filter` (optional): A query document that specifies the documents\n        from which to retrieve the distinct values.\n      - `session` (optional): a\n        :class:`~pymongo.client_session.ClientSession`.\n      - `**kwargs` (optional): See list of options above.\n    \n    .. versionchanged:: 3.6\n       Added ``session`` parameter.\n    \n    .. versionchanged:: 3.4\n       Support the `collation` option.\n\n"
     ]
    }
   ],
   "source": [
    "help(mycol.distinct)"
   ]
  },
  {
   "cell_type": "code",
   "execution_count": 77,
   "metadata": {},
   "outputs": [],
   "source": [
    "xiaoqus = [item['_id'] for item in mycol.aggregate([{\"$group\":{\"_id\":{\"city\":\"$city\", \"district\":\"$district\", \"area\":\"$area\", \"xiaoqu\":\"$xiaoqu\"}}}])]"
   ]
  }
 ]
}